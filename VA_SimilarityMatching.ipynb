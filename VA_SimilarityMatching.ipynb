{
  "nbformat": 4,
  "nbformat_minor": 0,
  "metadata": {
    "colab": {
      "name": "VA_SimilarityMatching.ipynb",
      "provenance": [],
      "collapsed_sections": []
    },
    "kernelspec": {
      "name": "python3",
      "display_name": "Python 3"
    },
    "language_info": {
      "name": "python"
    }
  },
  "cells": [
    {
      "cell_type": "code",
      "execution_count": 1,
      "metadata": {
        "id": "-P0lbcRLRuj2"
      },
      "outputs": [],
      "source": [
        "import os\n",
        "import json\n",
        "import math\n",
        "import numpy as np\n",
        "from scipy.spatial.distance import cosine, euclidean\n",
        "from sklearn import preprocessing\n",
        "from fastdtw import fastdtw\n",
        "from scipy import interpolate\n",
        "from operator import add\n",
        "\n",
        "def extract_coords(frame):\n",
        "\tx = np.array(frame[0::3])\n",
        "\ty = np.array(frame[1::3])\n",
        "\treturn x, y\n",
        "\n",
        "# Get euclidean distance between frame a, b\n",
        "def frame_euc_dis(a, b):\n",
        "\tx1, y1 = extract_coords(a)\n",
        "\tx2, y2 = extract_coords(b)\n",
        "\tdist = np.sum((x1 - x2)**2 + (y1 - y2)**2)\n",
        "\treturn dist\n",
        "\n",
        "# Get cosine similarity between frame a, b\n",
        "def frame_cos_dis(a, b):\n",
        "\tx1, y1 = extract_coords(a)\n",
        "\tx2, y2 = extract_coords(b)\n",
        "\ta_vec = []\n",
        "\tb_vec = []\n",
        "\tfor x, y in zip(x1, y1):\n",
        "\t\ta_vec.append(x)\n",
        "\t\ta_vec.append(y)\n",
        "\tfor x, y in zip(x2, y2):\n",
        "\t\tb_vec.append(x)\n",
        "\t\tb_vec.append(y)\n",
        "\tX = np.asarray([a_vec,\n",
        "\t\tb_vec], dtype=np.float)\n",
        "\tX_normalized = preprocessing.normalize(X, norm='l2')\n",
        "\tdist = cosine(X_normalized[0,:],X_normalized[1,:])\n",
        "\t#dist = np.dot(a_vec, b_vec)\n",
        "\treturn dist\n",
        "\n",
        "# what are these?\n",
        "lines = {\n",
        "\t0: [1],\n",
        "\t1: [2,5,8,15,16,17,18],\n",
        "\t2: [3],\n",
        "\t3: [4],\n",
        "\t5: [6],\n",
        "\t6: [7],\n",
        "\t8: [9,12],\n",
        "\t9: [10],\n",
        "\t10: [11],\n",
        "\t11: [22,23,24],\n",
        "\t12: [13],\n",
        "\t13: [14],\n",
        "\t14: [19,20,21]\n",
        "}\n",
        "\n",
        "def frame_vec(fr):\n",
        "\tform = []\n",
        "\tfor i in range(25):\n",
        "\t\tform.append({'x':fr[2*i],'y':fr[2*i+1],'conf':fr[2*i+2]})\n",
        "\treturn form\n",
        "\n",
        "def frame_cost(a,b):\n",
        "\ta_fr = frame_vec(a)\n",
        "\tb_fr = frame_vec(b)\n",
        "\ttotal_cost = 0.0\n",
        "\ttotal_conf = 0.0\n",
        "\tfor st in lines:\n",
        "\t\tfor end in lines[st]:\n",
        "\t\t\ta_vec = np.array([ a_fr[st]['x']-a_fr[end]['x'], a_fr[st]['y']-a_fr[end]['y'] ])\n",
        "\t\t\tb_vec = np.array([ b_fr[st]['x']-b_fr[end]['x'], b_fr[st]['y']-b_fr[end]['y'] ])\n",
        "\t\t\tif np.any(a_vec) and np.any(b_vec):\n",
        "\t\t\t\tconf = 1 - math.fabs((a_fr[st]['conf']-b_fr[st]['conf'])*(a_fr[end]['conf']-b_fr[end]['conf']))\n",
        "\t\t\t\tcost = cosine(a_vec,b_vec)*conf\n",
        "\t\t\t\ttotal_conf += conf\n",
        "\t\t\t\ttotal_cost += cost\n",
        "\n",
        "\treturn total_cost/total_conf\n",
        "\n",
        "def normalize(frames):\n",
        "\treturn preprocessing.normalize(frames, norm='l2')\n",
        "\n",
        "# Interpolates frames to have num_desired frames\n",
        "# Needed for DTW to compare differently sized videos\n",
        "def interpolate_frames(frames, num_desired):\n",
        "\told_indices = np.arange(0, len(frames))\n",
        "\t# Interpolate the new set of indices depending on num_desired\n",
        "\tnew_indices = np.linspace(0, len(frames)-1, num_desired)\n",
        "\tnew_frames = []\n",
        "\t# Break up the frames\n",
        "\tfor coord in frames.T:\n",
        "\t\t# Each coordinate is interpolated independently\n",
        "\t\tf = interpolate.interp1d(old_indices, coord)\n",
        "\t\tnew_coord = f(new_indices)\n",
        "\t\tnew_frames.append(new_coord)\n",
        "\treturn np.array(new_frames).T\n",
        "\n",
        "def remove_confidences(frames):\n",
        "\treturn [[coord for i, coord in enumerate(frame) if (i+1)%3 != 0] for frame in frames]\n",
        "\n",
        "def get_confidences(frames):\n",
        "\treturn [[coord for i, coord in enumerate(frame) if (i+1)%3 == 0] for frame in frames]\n",
        "\n",
        "def get_centroid(frames, coord):\n",
        "\tif coord == 'x':\n",
        "\t\tcoords = np.array([[coord for i, coord in enumerate(frame) if i%3 == 0] for frame in frames])\n",
        "\telse:\n",
        "\t\tcoords = np.array([[coord for i, coord in enumerate(frame) if i%3 == 1] for frame in frames])\n",
        "\t# Return the mean coord\n",
        "\treturn np.sum(np.sum(coords, axis=0))/len(coords)\n",
        "\n",
        "def get_first_hip(frames, coord):\n",
        "\tif coord == 'x':\n",
        "\t\treturn frames[0][24]\n",
        "\telse:\n",
        "\t\treturn frames[0][25]\n",
        "\n",
        "def translate_video(frames, x_offset, y_offset):\n",
        "\treturn [[(coord-x_offset) if i%3==0 else (coord-y_offset) \n",
        "\tif i%3==1 else coord for i, coord in enumerate(frame)] for frame in frames]\n",
        "\n",
        "def compare_videos(X, Y):\n",
        "\t# Interpolate the shorter video to length of longer video\n",
        "\tif len(X) > len(Y):\n",
        "\t\tY = interpolate_frames(Y, len(X))\n",
        "\telif len(Y) > len(X):\n",
        "\t\tX = interpolate_frames(X, len(Y))\n",
        "\tX = normalize(np.array(X))\n",
        "\tY = normalize(np.array(Y))\n",
        "\tdist, path = fastdtw(X, Y, radius=2, dist=frame_cost)\n",
        "\treturn dist\n",
        "\n",
        "def json_to_np(directory):\n",
        "\t# Each entry contains a json array of pose coordinates\n",
        "\tvideos = []\n",
        "\tvideo_dirs = os.listdir(directory)\n",
        "\tfor video_dir in video_dirs:\n",
        "\t\tvideo = []\n",
        "\t\tfor json_file in os.listdir('{}/{}'.format(directory, video_dir)):\n",
        "\t\t\twith open('{}/{}/{}'.format(directory, video_dir, json_file)) as f:\n",
        "\t\t\t\tframe = json.loads(f.read())\n",
        "\t\t\t\ttry:\n",
        "\t\t\t\t\tvideo.append(frame['people'][0]['pose_keypoints_2d'])\n",
        "\t\t\t\texcept IndexError:\n",
        "\t\t\t\t\tcontinue\n",
        "\t\t\t\t\tprint(json_file)\n",
        "\t\tx_offset = get_centroid(video, 'x')\n",
        "\t\ty_offset = get_centroid(video, 'y')\n",
        "\t\ttranslated = translate_video(video, x_offset, y_offset)\n",
        "\t\t#print(translated)\n",
        "\t\tvideos.append(translated)\n",
        "\treturn videos\n",
        "\n",
        "def dir_to_np(directory):\n",
        "\tvideo = []\n",
        "\tfor json_file in os.listdir(directory):\n",
        "\t\twith open('{}/{}'.format(directory, json_file)) as f:\n",
        "\t\t\tframe = json.loads(f.read())\n",
        "\t\t\ttry:\n",
        "\t\t\t\tvideo.append(frame['people'][0]['pose_keypoints_2d'])\n",
        "\t\t\texcept IndexError:\n",
        "\t\t\t\tprint(json_file)\n",
        "\treturn np.array(video)\n",
        "\n",
        "def compare_dir(a, b):\n",
        "\tvideo_a = dir_to_np(a)\n",
        "\tvideo_b = dir_to_np(b)\n",
        "\n",
        "\treturn compare_videos(video_a, video_b)"
      ]
    },
    {
      "cell_type": "code",
      "source": [
        "# check similar videos\n",
        "compare_dir('/content/drive/MyDrive/Colab Notebooks/VAproject/JSON_Files/action.json','/content/drive/MyDrive/Colab Notebooks/VAproject/JSON_Files/action.json')"
      ],
      "metadata": {
        "colab": {
          "base_uri": "https://localhost:8080/"
        },
        "id": "C8nm2vYbdoEF",
        "outputId": "5fed4534-f657-4be0-fcdf-2005eed78703"
      },
      "execution_count": 2,
      "outputs": [
        {
          "output_type": "execute_result",
          "data": {
            "text/plain": [
              "0.0"
            ]
          },
          "metadata": {},
          "execution_count": 2
        }
      ]
    },
    {
      "cell_type": "code",
      "source": [
        "# check dissimilar videos\n",
        "compare_dir('/content/drive/MyDrive/Colab Notebooks/VAproject/JSON_Files/action.json','/content/drive/MyDrive/Colab Notebooks/VAproject/JSON_Files/reference.json')"
      ],
      "metadata": {
        "colab": {
          "base_uri": "https://localhost:8080/"
        },
        "id": "dy79k20idt2p",
        "outputId": "5ca9e94b-560c-4600-affb-d003d27915ac"
      },
      "execution_count": 3,
      "outputs": [
        {
          "output_type": "execute_result",
          "data": {
            "text/plain": [
              "5.337774721658451"
            ]
          },
          "metadata": {},
          "execution_count": 3
        }
      ]
    },
    {
      "cell_type": "markdown",
      "source": [
        "Comment - For each frame difference, you can find it in the \"frame_cost\" function leading from the fast_dtw  line in \"compare_videos\" function. They are using cosine similarity. We can take out the value it is computing for each frame."
      ],
      "metadata": {
        "id": "dFowVe1n0e5G"
      }
    }
  ]
}